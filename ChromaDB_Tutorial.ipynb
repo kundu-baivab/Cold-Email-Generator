{
 "cells": [
  {
   "cell_type": "code",
   "execution_count": 1,
   "id": "46f1a99b-1094-4ea4-bb74-a58676281c30",
   "metadata": {},
   "outputs": [],
   "source": [
    "import chromadb\n",
    "\n",
    "client = chromadb.Client()\n",
    "collection = client.create_collection(name=\"ceg-collection\")"
   ]
  },
  {
   "cell_type": "code",
   "execution_count": 2,
   "id": "29ba4bc4-2373-4ed1-8ff8-769422724e67",
   "metadata": {},
   "outputs": [],
   "source": [
    "collection.add(\n",
    "    documents=[\n",
    "        \"Doc about NYC\",\n",
    "        \"Doc about myself\"\n",
    "    ],\n",
    "    ids=['id1','id2']\n",
    ")"
   ]
  },
  {
   "cell_type": "code",
   "execution_count": 3,
   "id": "7a45bd8d-ffb1-4cb5-a5bd-e9a3ef05bea8",
   "metadata": {},
   "outputs": [
    {
     "data": {
      "text/plain": [
       "{'ids': ['id1', 'id2'],\n",
       " 'embeddings': None,\n",
       " 'metadatas': [None, None],\n",
       " 'documents': ['Doc about NYC', 'Doc about myself'],\n",
       " 'uris': None,\n",
       " 'data': None,\n",
       " 'included': ['metadatas', 'documents']}"
      ]
     },
     "execution_count": 3,
     "metadata": {},
     "output_type": "execute_result"
    }
   ],
   "source": [
    "all_docs = collection.get()\n",
    "all_docs"
   ]
  },
  {
   "cell_type": "code",
   "execution_count": 5,
   "id": "d62b924d-e3b4-453e-8423-c09a9a18f5f3",
   "metadata": {},
   "outputs": [
    {
     "data": {
      "text/plain": [
       "{'ids': ['id1'],\n",
       " 'embeddings': None,\n",
       " 'metadatas': [None],\n",
       " 'documents': ['Doc about NYC'],\n",
       " 'uris': None,\n",
       " 'data': None,\n",
       " 'included': ['metadatas', 'documents']}"
      ]
     },
     "execution_count": 5,
     "metadata": {},
     "output_type": "execute_result"
    }
   ],
   "source": [
    "docs = collection.get(ids='id1')\n",
    "docs"
   ]
  },
  {
   "cell_type": "code",
   "execution_count": 9,
   "id": "315fab3f-2899-4497-9b31-71610f0a9d10",
   "metadata": {},
   "outputs": [
    {
     "data": {
      "text/plain": [
       "{'ids': [['id1', 'id2']],\n",
       " 'distances': [[1.6466848850250244, 1.812529444694519]],\n",
       " 'metadatas': [[None, None]],\n",
       " 'embeddings': None,\n",
       " 'documents': [['Doc about NYC', 'Doc about myself']],\n",
       " 'uris': None,\n",
       " 'data': None,\n",
       " 'included': ['metadatas', 'documents', 'distances']}"
      ]
     },
     "execution_count": 9,
     "metadata": {},
     "output_type": "execute_result"
    }
   ],
   "source": [
    "results = collection.query(\n",
    "    query_texts=\"query is about india\",\n",
    "    n_results=2\n",
    ")\n",
    "results"
   ]
  },
  {
   "cell_type": "code",
   "execution_count": 10,
   "id": "c40bf39f-7dfd-4002-a319-7046ef23f247",
   "metadata": {},
   "outputs": [
    {
     "data": {
      "text/plain": [
       "{'ids': [],\n",
       " 'embeddings': None,\n",
       " 'metadatas': [],\n",
       " 'documents': [],\n",
       " 'uris': None,\n",
       " 'data': None,\n",
       " 'included': ['metadatas', 'documents']}"
      ]
     },
     "execution_count": 10,
     "metadata": {},
     "output_type": "execute_result"
    }
   ],
   "source": [
    "collection.delete(ids=all_docs['ids'])\n",
    "collection.get()"
   ]
  },
  {
   "cell_type": "code",
   "execution_count": 11,
   "id": "c8efa160-08d8-486a-8cad-439adf410968",
   "metadata": {},
   "outputs": [],
   "source": [
    "collection.add(\n",
    "    documents=[\n",
    "        \"Doc about New York\",\n",
    "        \"Doc about New Delhi\"\n",
    "    ],\n",
    "    ids=['id1','id2'],\n",
    "    metadatas=[\n",
    "        {\"url\":\"https://en.wikipedia.org/wiki/New_York_City\"},\n",
    "        {\"url\":\"https://en.wikipedia.org/wiki/New_Delhi\"}\n",
    "    ]\n",
    ")"
   ]
  },
  {
   "cell_type": "code",
   "execution_count": 12,
   "id": "6ec07c43-952b-4787-a279-a084d3d576a0",
   "metadata": {},
   "outputs": [
    {
     "data": {
      "text/plain": [
       "{'ids': [['id2', 'id1']],\n",
       " 'distances': [[1.5290501117706299, 1.936640739440918]],\n",
       " 'metadatas': [[{'url': 'https://en.wikipedia.org/wiki/New_Delhi'},\n",
       "   {'url': 'https://en.wikipedia.org/wiki/New_York_City'}]],\n",
       " 'embeddings': None,\n",
       " 'documents': [['Doc about New Delhi', 'Doc about New York']],\n",
       " 'uris': None,\n",
       " 'data': None,\n",
       " 'included': ['metadatas', 'documents', 'distances']}"
      ]
     },
     "execution_count": 12,
     "metadata": {},
     "output_type": "execute_result"
    }
   ],
   "source": [
    "results = collection.query(\n",
    "    query_texts=\"query is about chole bhature\",\n",
    "    n_results=2\n",
    ")\n",
    "results"
   ]
  }
 ],
 "metadata": {
  "kernelspec": {
   "display_name": "Python 3 (ipykernel)",
   "language": "python",
   "name": "python3"
  },
  "language_info": {
   "codemirror_mode": {
    "name": "ipython",
    "version": 3
   },
   "file_extension": ".py",
   "mimetype": "text/x-python",
   "name": "python",
   "nbconvert_exporter": "python",
   "pygments_lexer": "ipython3",
   "version": "3.11.1"
  }
 },
 "nbformat": 4,
 "nbformat_minor": 5
}
