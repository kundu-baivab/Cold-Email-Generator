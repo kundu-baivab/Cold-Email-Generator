{
 "cells": [
  {
   "cell_type": "code",
   "execution_count": 1,
   "id": "5cfd758c-02e4-4602-bf70-28f84a09ba89",
   "metadata": {},
   "outputs": [
    {
     "name": "stdout",
     "output_type": "stream",
     "text": [
      "The first person to land on the moon was Neil Armstrong. He stepped onto the lunar surface on July 20, 1969, as part of the Apollo 11 mission.\n"
     ]
    }
   ],
   "source": [
    "from langchain_groq import ChatGroq\n",
    "\n",
    "llm = ChatGroq(\n",
    "    temperature=0,\n",
    "    groq_api_key=\"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\",\n",
    "    model_name=\"llama-3.1-70b-versatile\"\n",
    ")\n",
    "\n",
    "response = llm.invoke(\"The first person to land on moon was ...\")\n",
    "print(response.content)"
   ]
  },
  {
   "cell_type": "code",
   "execution_count": 5,
   "id": "b2b5b84c-6f3a-48ab-9152-7bd03358d5aa",
   "metadata": {},
   "outputs": [
    {
     "name": "stderr",
     "output_type": "stream",
     "text": [
      "USER_AGENT environment variable not set, consider setting it to identify your requests.\n"
     ]
    },
    {
     "name": "stdout",
     "output_type": "stream",
     "text": [
      "Apply for NIKE, Inc. North America Distribution Centers (NADC) Undergraduate Internship\n",
      "\n",
      "Search JobsSkip navigationSearch JobsNIKE, INC. JOBSContract JobsJoin The Talent CommunityLife @ NikeOverviewBenefitsBrandsOverviewJordanConverseTeamsOverviewAdministrative SupportAdvanced InnovationAir Manufacturing InnovationAviationCommunicationsCustomer ServiceDesignDigitalFacilitiesFinance & AccountingGovernment & Public AffairsHuman ResourcesInsights & AnalyticsLegalManufacturing & EngineeringMarketingMerchandisingPlanningPrivacyProcurementProduct Creation, Development & ManagementRetail CorporateRetail StoresSalesSocial & Community ImpactSports MarketingStrategic PlanningSupply Chain, Distribution & LogisticsSustainabilityTechnologyLocationsOverviewNike WHQNike New York HQEHQ: Hilversum, The NetherlandsELC: Laakdal, BelgiumGreater China HQDiversity, Equity & InclusionOverviewMilitary InclusionDisability InclusionIndigenous InclusionInternshipsInternshipsNIKE, Inc. North America Distribution Centers (NADC) Undergraduate InternshipMemphis, TennesseeBecome a Part of the NIKE, Inc. Team\n",
      "NIKE, Inc. does more than outfit the world’s best athletes. It is a place to explore potential, obliterate boundaries and push out the edges of what can be. The company looks for people who can grow, think, dream and create. Its culture thrives by embracing diversity and rewarding imagination. The brand seeks achievers, leaders and visionaries. At NIKE, Inc. it’s about each person bringing skills and passion to a challenging and constantly evolving game.The NIKE, Inc. Supply Chain team is the engine that propels product around the world. Supply Chain experts ensure that every year, almost a billion units of footwear, apparel and equipment arrive at the right place, at the right time. To ensure this complex job goes off without a hitch, Supply Chain teams work with a network of more than 50 distribution centers, thousands of accounts, and more than 100,000 retail stores worldwide — making the impossible happen every single day.  WHO WE ARE LOOKING FOR Our Supply Chain organization is looking for dynamic interns to join our North America Distribution Centers in Memphis, TN. We have opportunities across a variety of functional areas, such as Operations, Planning, Transportation, Digital Fulfillment, Engineering, and more! Qualifications: Enrolled in an Undergraduate program with an expected graduation date of December 2025 or Spring/Summer 2026 Background in Operations, Supply Chain, Logistics, Analytics, Manufacturing, Industrial Engineering, Business, Project Management or related field preferred  0-2 years work experience Resume submission (PDF) required   Skills: Experience with SQL, Excel, Tableau, SAP, Kronos, Alteryx, and Snowflake would be a plus Lean Manufacturing, labor management and/or AutoCAD knowledge is a plus Analytical skillset, ability to leverage data and information for effective problem solving in a team setting Statistical processes experience, or application of statistical methods to identify improvement opportunities and root causes Ability to assimilate large data sets, summarize, and identify key drivers for problem resolution Excellent decision-making and problem-solving skills, attentive to details, work well under pressure and able to meet deadlines   Ability to work cross-functionally, influence other teams, and leverage internal and external resources   Have a growth mindset, be inquisitive, and have a process orientated mindset   Passionate about Nike brand, products and consumers    WHAT YOU’LL WORK ON As an NADC Undergraduate Intern, you’ll work in a dynamic, growing, and fast-paced distribution center environment. You will utilize your expertise to work on the following types of projects: Operational process improvements Project deployment such as new technology or capabilities Improving information and data flows across business and operational partners, or even sustainability initiatives Continuous Improvement Labor Management Material Handling Equipment (MHE) Design  This is a paid internship opportunity with relocation assistance. Curious to know what it’s like to be part of a world-class Internship Program? Check out our recap video from last summer: Nike Internship Program Recap Video  This internship – as well as full-time positions – are located in-person at our North America Distribution Centers in Memphis, TN. Check out this video to learn more about what it’s like: North America Distribution Centers Video  NIKE, Inc. is a growth company that looks for team members to grow with it. Nike offers a generous total rewards package, casual work environment, a diverse and inclusive culture, and an electric atmosphere for professional development. No matter the location, or the role, every Nike employee shares one galvanizing mission: To bring inspiration and innovation to every athlete* in the world.NIKE, Inc. is committed to employing a diverse workforce. Qualified applicants will receive consideration without regard to race, color, religion, sex, national origin, age, sexual orientation, gender identity, gender expression, veteran status, or disability.How We HireAt NIKE, Inc. we promise to provide a premium, inclusive, compelling and authentic candidate experience. Delivering on this promise means we allow you to be at your best — and to do that, you need to understand how the hiring process works. Transparency is key.\n",
      "\n",
      "* This overview explains our hiring process for corporate roles. Note there may be different hiring steps involved for non-corporate roles.Start nowBenefitsWhether it’s transportation or financial health, we continually invest in our employees to help them achieve greatness — inside and outside of work. All who work here should be able to realize their full potential.Employee Assistance ProgramHolidaysMedical PlanPaid Time Off (PTO)Product DiscountsLearn moreFIND A STOREBECOME A MEMBERSIGN UP FOR EMAILSEND US FEEDBACKSTUDENT DISCOUNTSGET HELPGET HELPOrder StatusDeliveryReturnsPayment OptionsContact Us On Nike.com InquiriesContact Us On All Other InquiriesABOUT NIKEABOUT NIKENewsCareersInvestorsSustainabilityIndia© 2024 Nike, Inc. All Rights ReservedGuidesNike AdaptNike Air MaxNike FlyleatherNike PegasusNike Zoom FlyNike AirNike FlyEaseNike FreeNike ReactNike ZoomXNike Air Force 1Nike FlyknitNike JoyrideNike VaporflyTerms of SaleTerms of UseNike Privacy Policy\n"
     ]
    }
   ],
   "source": [
    "from langchain_community.document_loaders import WebBaseLoader\n",
    "\n",
    "loader = WebBaseLoader(\"https://jobs.nike.com/job/R-38018\")\n",
    "page_data = loader.load().pop().page_content\n",
    "print(page_data)"
   ]
  },
  {
   "cell_type": "code",
   "execution_count": 12,
   "id": "29daa92a-a15d-4673-bb64-4cd362d366c6",
   "metadata": {},
   "outputs": [
    {
     "name": "stdout",
     "output_type": "stream",
     "text": [
      "```json\n",
      "{\n",
      "  \"role\": \"NIKE, Inc. North America Distribution Centers (NADC) Undergraduate Internship\",\n",
      "  \"experience\": \"0-2 years\",\n",
      "  \"skills\": [\n",
      "    \"SQL\",\n",
      "    \"Excel\",\n",
      "    \"Tableau\",\n",
      "    \"SAP\",\n",
      "    \"Kronos\",\n",
      "    \"Alteryx\",\n",
      "    \"Snowflake\",\n",
      "    \"Lean Manufacturing\",\n",
      "    \"labor management\",\n",
      "    \"AutoCAD\",\n",
      "    \"Analytical skillset\",\n",
      "    \"Statistical processes\"\n",
      "  ],\n",
      "  \"description\": \"As an NADC Undergraduate Intern, you’ll work in a dynamic, growing, and fast-paced distribution center environment. You will utilize your expertise to work on the following types of projects: Operational process improvements, Project deployment such as new technology or capabilities, Improving information and data flows across business and operational partners, or even sustainability initiatives, Continuous Improvement, Labor Management, Material Handling Equipment (MHE) Design.\"\n",
      "}\n",
      "```\n"
     ]
    }
   ],
   "source": [
    "from langchain_core.prompts import PromptTemplate\n",
    "\n",
    "prompt_extract = PromptTemplate.from_template(\n",
    "    \"\"\"\n",
    "    ### SCRAPED TEXT FROM WEBSITE:\n",
    "    {page_data}\n",
    "    ### INSTRUCTION:\n",
    "    The scraped text is from the career's page of a website.\n",
    "    Your job is to extract the job postings and return them in JSON format containing the following keys:\n",
    "    'role','experience','skills' and 'description'.\n",
    "    Only return the valid JSON.\n",
    "    ### VALID JSON (NO PREAMBLE):\n",
    "    \"\"\"\n",
    ")\n",
    "\n",
    "chain_extract = prompt_extract | llm\n",
    "res = chain_extract.invoke(input={'page_data':page_data})\n",
    "print(res.content)"
   ]
  },
  {
   "cell_type": "code",
   "execution_count": 14,
   "id": "f89c8863-3dca-4642-a988-2a326f7e147f",
   "metadata": {},
   "outputs": [
    {
     "data": {
      "text/plain": [
       "{'role': 'NIKE, Inc. North America Distribution Centers (NADC) Undergraduate Internship',\n",
       " 'experience': '0-2 years',\n",
       " 'skills': ['SQL',\n",
       "  'Excel',\n",
       "  'Tableau',\n",
       "  'SAP',\n",
       "  'Kronos',\n",
       "  'Alteryx',\n",
       "  'Snowflake',\n",
       "  'Lean Manufacturing',\n",
       "  'labor management',\n",
       "  'AutoCAD',\n",
       "  'Analytical skillset',\n",
       "  'Statistical processes'],\n",
       " 'description': 'As an NADC Undergraduate Intern, you’ll work in a dynamic, growing, and fast-paced distribution center environment. You will utilize your expertise to work on the following types of projects: Operational process improvements, Project deployment such as new technology or capabilities, Improving information and data flows across business and operational partners, or even sustainability initiatives, Continuous Improvement, Labor Management, Material Handling Equipment (MHE) Design.'}"
      ]
     },
     "execution_count": 14,
     "metadata": {},
     "output_type": "execute_result"
    }
   ],
   "source": [
    "from langchain_core.output_parsers import JsonOutputParser\n",
    "\n",
    "json_parser = JsonOutputParser()\n",
    "json_res = json_parser.parse(res.content)\n",
    "json_res"
   ]
  },
  {
   "cell_type": "code",
   "execution_count": 15,
   "id": "1ab77471-c04a-4e8b-85f9-ecf4e65f59d1",
   "metadata": {},
   "outputs": [
    {
     "data": {
      "text/plain": [
       "dict"
      ]
     },
     "execution_count": 15,
     "metadata": {},
     "output_type": "execute_result"
    }
   ],
   "source": [
    "type(json_res)"
   ]
  },
  {
   "cell_type": "code",
   "execution_count": 17,
   "id": "d5080493-aeb7-4129-8e17-34b7ac0d9d49",
   "metadata": {},
   "outputs": [
    {
     "data": {
      "text/html": [
       "<div>\n",
       "<style scoped>\n",
       "    .dataframe tbody tr th:only-of-type {\n",
       "        vertical-align: middle;\n",
       "    }\n",
       "\n",
       "    .dataframe tbody tr th {\n",
       "        vertical-align: top;\n",
       "    }\n",
       "\n",
       "    .dataframe thead th {\n",
       "        text-align: right;\n",
       "    }\n",
       "</style>\n",
       "<table border=\"1\" class=\"dataframe\">\n",
       "  <thead>\n",
       "    <tr style=\"text-align: right;\">\n",
       "      <th></th>\n",
       "      <th>Techstack</th>\n",
       "      <th>Links</th>\n",
       "    </tr>\n",
       "  </thead>\n",
       "  <tbody>\n",
       "    <tr>\n",
       "      <th>0</th>\n",
       "      <td>React, Node.js, MongoDB</td>\n",
       "      <td>https://example.com/react-portfolio</td>\n",
       "    </tr>\n",
       "    <tr>\n",
       "      <th>1</th>\n",
       "      <td>Angular,.NET, SQL Server</td>\n",
       "      <td>https://example.com/angular-portfolio</td>\n",
       "    </tr>\n",
       "    <tr>\n",
       "      <th>2</th>\n",
       "      <td>Vue.js, Ruby on Rails, PostgreSQL</td>\n",
       "      <td>https://example.com/vue-portfolio</td>\n",
       "    </tr>\n",
       "    <tr>\n",
       "      <th>3</th>\n",
       "      <td>Python, Django, MySQL</td>\n",
       "      <td>https://example.com/python-portfolio</td>\n",
       "    </tr>\n",
       "    <tr>\n",
       "      <th>4</th>\n",
       "      <td>Java, Spring Boot, Oracle</td>\n",
       "      <td>https://example.com/java-portfolio</td>\n",
       "    </tr>\n",
       "    <tr>\n",
       "      <th>5</th>\n",
       "      <td>Flutter, Firebase, GraphQL</td>\n",
       "      <td>https://example.com/flutter-portfolio</td>\n",
       "    </tr>\n",
       "    <tr>\n",
       "      <th>6</th>\n",
       "      <td>WordPress, PHP, MySQL</td>\n",
       "      <td>https://example.com/wordpress-portfolio</td>\n",
       "    </tr>\n",
       "    <tr>\n",
       "      <th>7</th>\n",
       "      <td>Magento, PHP, MySQL</td>\n",
       "      <td>https://example.com/magento-portfolio</td>\n",
       "    </tr>\n",
       "    <tr>\n",
       "      <th>8</th>\n",
       "      <td>React Native, Node.js, MongoDB</td>\n",
       "      <td>https://example.com/react-native-portfolio</td>\n",
       "    </tr>\n",
       "    <tr>\n",
       "      <th>9</th>\n",
       "      <td>iOS, Swift, Core Data</td>\n",
       "      <td>https://example.com/ios-portfolio</td>\n",
       "    </tr>\n",
       "    <tr>\n",
       "      <th>10</th>\n",
       "      <td>Android, Java, Room Persistence</td>\n",
       "      <td>https://example.com/android-portfolio</td>\n",
       "    </tr>\n",
       "    <tr>\n",
       "      <th>11</th>\n",
       "      <td>Kotlin, Android, Firebase</td>\n",
       "      <td>https://example.com/kotlin-android-portfolio</td>\n",
       "    </tr>\n",
       "    <tr>\n",
       "      <th>12</th>\n",
       "      <td>Android TV, Kotlin, Android NDK</td>\n",
       "      <td>https://example.com/android-tv-portfolio</td>\n",
       "    </tr>\n",
       "    <tr>\n",
       "      <th>13</th>\n",
       "      <td>iOS, Swift, ARKit</td>\n",
       "      <td>https://example.com/ios-ar-portfolio</td>\n",
       "    </tr>\n",
       "    <tr>\n",
       "      <th>14</th>\n",
       "      <td>Cross-platform, Xamarin, Azure</td>\n",
       "      <td>https://example.com/xamarin-portfolio</td>\n",
       "    </tr>\n",
       "    <tr>\n",
       "      <th>15</th>\n",
       "      <td>Backend, Kotlin, Spring Boot</td>\n",
       "      <td>https://example.com/kotlin-backend-portfolio</td>\n",
       "    </tr>\n",
       "    <tr>\n",
       "      <th>16</th>\n",
       "      <td>Frontend, TypeScript, Angular</td>\n",
       "      <td>https://example.com/typescript-frontend-portfolio</td>\n",
       "    </tr>\n",
       "    <tr>\n",
       "      <th>17</th>\n",
       "      <td>Full-stack, JavaScript, Express.js</td>\n",
       "      <td>https://example.com/full-stack-js-portfolio</td>\n",
       "    </tr>\n",
       "    <tr>\n",
       "      <th>18</th>\n",
       "      <td>Machine Learning, Python, TensorFlow</td>\n",
       "      <td>https://example.com/ml-python-portfolio</td>\n",
       "    </tr>\n",
       "    <tr>\n",
       "      <th>19</th>\n",
       "      <td>DevOps, Jenkins, Docker</td>\n",
       "      <td>https://example.com/devops-portfolio</td>\n",
       "    </tr>\n",
       "  </tbody>\n",
       "</table>\n",
       "</div>"
      ],
      "text/plain": [
       "                               Techstack  \\\n",
       "0                React, Node.js, MongoDB   \n",
       "1               Angular,.NET, SQL Server   \n",
       "2      Vue.js, Ruby on Rails, PostgreSQL   \n",
       "3                  Python, Django, MySQL   \n",
       "4              Java, Spring Boot, Oracle   \n",
       "5             Flutter, Firebase, GraphQL   \n",
       "6                  WordPress, PHP, MySQL   \n",
       "7                    Magento, PHP, MySQL   \n",
       "8         React Native, Node.js, MongoDB   \n",
       "9                  iOS, Swift, Core Data   \n",
       "10       Android, Java, Room Persistence   \n",
       "11             Kotlin, Android, Firebase   \n",
       "12       Android TV, Kotlin, Android NDK   \n",
       "13                     iOS, Swift, ARKit   \n",
       "14        Cross-platform, Xamarin, Azure   \n",
       "15          Backend, Kotlin, Spring Boot   \n",
       "16         Frontend, TypeScript, Angular   \n",
       "17    Full-stack, JavaScript, Express.js   \n",
       "18  Machine Learning, Python, TensorFlow   \n",
       "19               DevOps, Jenkins, Docker   \n",
       "\n",
       "                                                Links  \n",
       "0                 https://example.com/react-portfolio  \n",
       "1               https://example.com/angular-portfolio  \n",
       "2                   https://example.com/vue-portfolio  \n",
       "3                https://example.com/python-portfolio  \n",
       "4                  https://example.com/java-portfolio  \n",
       "5               https://example.com/flutter-portfolio  \n",
       "6             https://example.com/wordpress-portfolio  \n",
       "7               https://example.com/magento-portfolio  \n",
       "8          https://example.com/react-native-portfolio  \n",
       "9                   https://example.com/ios-portfolio  \n",
       "10              https://example.com/android-portfolio  \n",
       "11       https://example.com/kotlin-android-portfolio  \n",
       "12           https://example.com/android-tv-portfolio  \n",
       "13               https://example.com/ios-ar-portfolio  \n",
       "14              https://example.com/xamarin-portfolio  \n",
       "15       https://example.com/kotlin-backend-portfolio  \n",
       "16  https://example.com/typescript-frontend-portfolio  \n",
       "17        https://example.com/full-stack-js-portfolio  \n",
       "18            https://example.com/ml-python-portfolio  \n",
       "19               https://example.com/devops-portfolio  "
      ]
     },
     "execution_count": 17,
     "metadata": {},
     "output_type": "execute_result"
    }
   ],
   "source": [
    "import pandas as pd\n",
    "\n",
    "df= pd.read_csv('my_portfolio.csv')\n",
    "df"
   ]
  },
  {
   "cell_type": "code",
   "execution_count": 20,
   "id": "dd55f265-903a-4843-ba83-3f53b9486705",
   "metadata": {},
   "outputs": [],
   "source": [
    "import uuid\n",
    "import chromadb\n",
    "\n",
    "client = chromadb.PersistentClient('vectorstore')\n",
    "collection= client.get_or_create_collection(name='my_portfolio')\n",
    "\n",
    "if not collection.count():\n",
    "    for _,row in df.iterrows():\n",
    "        collection.add(documents=row[\"Techstack\"],\n",
    "                       metadatas={\"links\":row[\"Links\"]},\n",
    "                                  ids=[str(uuid.uuid4())])"
   ]
  },
  {
   "cell_type": "code",
   "execution_count": 21,
   "id": "f851e79a-2ac8-4af1-b7fc-2a1ea1cb98d2",
   "metadata": {},
   "outputs": [
    {
     "data": {
      "text/plain": [
       "[[{'links': 'https://example.com/ml-python-portfolio'},\n",
       "  {'links': 'https://example.com/python-portfolio'}],\n",
       " [{'links': 'https://example.com/react-portfolio'},\n",
       "  {'links': 'https://example.com/react-native-portfolio'}]]"
      ]
     },
     "execution_count": 21,
     "metadata": {},
     "output_type": "execute_result"
    }
   ],
   "source": [
    "links = collection.query(query_texts=[\"Experience in Python\",\"Expertise in React\"], n_results=2).get('metadatas')\n",
    "links"
   ]
  },
  {
   "cell_type": "code",
   "execution_count": 22,
   "id": "bf88cd99-6c41-4acd-b1bb-01eb3441e525",
   "metadata": {},
   "outputs": [
    {
     "data": {
      "text/plain": [
       "['SQL',\n",
       " 'Excel',\n",
       " 'Tableau',\n",
       " 'SAP',\n",
       " 'Kronos',\n",
       " 'Alteryx',\n",
       " 'Snowflake',\n",
       " 'Lean Manufacturing',\n",
       " 'labor management',\n",
       " 'AutoCAD',\n",
       " 'Analytical skillset',\n",
       " 'Statistical processes']"
      ]
     },
     "execution_count": 22,
     "metadata": {},
     "output_type": "execute_result"
    }
   ],
   "source": [
    "job = json_res\n",
    "job['skills']"
   ]
  },
  {
   "cell_type": "code",
   "execution_count": 23,
   "id": "cceb0958-1551-4f20-854a-88becd76de94",
   "metadata": {},
   "outputs": [
    {
     "name": "stdout",
     "output_type": "stream",
     "text": [
      "Subject: Unlocking Operational Excellence for NIKE, Inc. NADC with AtliQ's Expertise\n",
      "\n",
      "Dear Hiring Manager,\n",
      "\n",
      "I came across the NIKE, Inc. North America Distribution Centers (NADC) Undergraduate Internship job description and was impressed by the emphasis on leveraging technology to drive operational process improvements, labor management, and sustainability initiatives. As a Business Development Executive at AtliQ, I'd like to introduce our company's capabilities in empowering businesses like NIKE, Inc. to achieve scalability, process optimization, and heightened efficiency.\n",
      "\n",
      "AtliQ has a proven track record of delivering tailored solutions that cater to the unique needs of our clients. Our expertise in data analytics, process automation, and software development can help NIKE, Inc. NADC streamline operations, enhance labor management, and improve information flows across business and operational partners.\n",
      "\n",
      "Our team has hands-on experience with tools like SQL, Excel, Tableau, SAP, and Alteryx, which are mentioned in the job description. We've also worked on projects involving Lean Manufacturing, labor management, and AutoCAD. Our analytical skillset and expertise in statistical processes enable us to drive data-driven decision-making and continuous improvement.\n",
      "\n",
      "To give you a glimpse into our capabilities, I'd like to share some relevant examples from our portfolio:\n",
      "\n",
      "* Our machine learning and Python expertise can be seen in our project at [https://example.com/ml-python-portfolio](https://example.com/ml-python-portfolio), where we developed predictive models to optimize supply chain operations.\n",
      "* Our proficiency in data visualization and business intelligence is showcased in our project at [https://example.com/python-portfolio](https://example.com/python-portfolio), where we created interactive dashboards to facilitate data-driven decision-making.\n",
      "\n",
      "I'd love to schedule a call to discuss how AtliQ can support NIKE, Inc. NADC in achieving its operational excellence goals. Please let me know if you're available for a conversation.\n",
      "\n",
      "Best regards,\n",
      "\n",
      "Mohan\n",
      "Business Development Executive\n",
      "AtliQ\n",
      "[mohan@atliq.com](mailto:mohan@atliq.com)\n",
      "+1 (123) 456-7890\n"
     ]
    }
   ],
   "source": [
    "prompt_email = PromptTemplate.from_template(\n",
    "        \"\"\"\n",
    "        ### JOB DESCRIPTION:\n",
    "        {job_description}\n",
    "        \n",
    "        ### INSTRUCTION:\n",
    "        You are Mohan, a business development executive at AtliQ. AtliQ is an AI & Software Consulting company dedicated to facilitating\n",
    "        the seamless integration of business processes through automated tools. \n",
    "        Over our experience, we have empowered numerous enterprises with tailored solutions, fostering scalability, \n",
    "        process optimization, cost reduction, and heightened overall efficiency. \n",
    "        Your job is to write a cold email to the client regarding the job mentioned above describing the capability of AtliQ \n",
    "        in fulfilling their needs.\n",
    "        Also add the most relevant ones from the following links to showcase Atliq's portfolio: {link_list}\n",
    "        Remember you are Mohan, BDE at AtliQ. \n",
    "        Do not provide a preamble.\n",
    "        ### EMAIL (NO PREAMBLE):\n",
    "        \n",
    "        \"\"\"\n",
    "        )\n",
    "\n",
    "chain_email = prompt_email | llm\n",
    "res = chain_email.invoke({\"job_description\": str(job), \"link_list\": links})\n",
    "print(res.content)"
   ]
  }
 ],
 "metadata": {
  "kernelspec": {
   "display_name": "Python 3 (ipykernel)",
   "language": "python",
   "name": "python3"
  },
  "language_info": {
   "codemirror_mode": {
    "name": "ipython",
    "version": 3
   },
   "file_extension": ".py",
   "mimetype": "text/x-python",
   "name": "python",
   "nbconvert_exporter": "python",
   "pygments_lexer": "ipython3",
   "version": "3.11.1"
  }
 },
 "nbformat": 4,
 "nbformat_minor": 5
}
